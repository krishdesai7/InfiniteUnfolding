{
 "cells": [
  {
   "cell_type": "code",
   "execution_count": 1,
   "id": "7a0b7d7f",
   "metadata": {},
   "outputs": [
    {
     "name": "stdout",
     "output_type": "stream",
     "text": [
      "GPUs detected: 8\n",
      "Memory growth set to True\n"
     ]
    }
   ],
   "source": [
    "import os\n",
    "# os.environ['TF_XLA_FLAGS'] = '--tf_xla_enable_xla_devices=false'\n",
    "os.environ['TF_CPP_MIN_LOG_LEVEL'] = '2'\n",
    "\n",
    "import tensorflow as tf\n",
    "\n",
    "physical_devices = tf.config.list_physical_devices('GPU')\n",
    "\n",
    "# Check if TensorFlow has access to GPU\n",
    "if len(physical_devices) > 0:\n",
    "    print(f\"GPUs detected: {len(physical_devices)}\")\n",
    "    # Set memory growth to True for all GPUs\n",
    "    for device in physical_devices:\n",
    "        tf.config.experimental.set_memory_growth(device, True)\n",
    "    print(f\"Memory growth set to True\")\n",
    "else:\n",
    "    print(\"No GPUs detected. Please check your CUDA and cuDNN setup.\")"
   ]
  },
  {
   "cell_type": "code",
   "execution_count": 2,
   "id": "b613dce6",
   "metadata": {},
   "outputs": [],
   "source": [
    "import numpy as np\n",
    "import matplotlib.pyplot as plt\n",
    "\n",
    "import tensorflow as tf\n",
    "import tensorflow.keras.backend as K\n",
    "from tensorflow.keras.layers import Input, Dense, BatchNormalization, concatenate, Layer, Lambda, Multiply\n",
    "from tensorflow.keras.models import Model\n",
    "from tensorflow.keras.initializers import RandomNormal\n",
    "from tensorflow.keras.optimizers import Adam\n",
    "\n",
    "from sklearn.model_selection import train_test_split"
   ]
  },
  {
   "cell_type": "code",
   "execution_count": 3,
   "id": "26b938c4-b814-4c1d-bb59-9d84183509f4",
   "metadata": {},
   "outputs": [],
   "source": [
    "N = 10000\n",
    "\n",
    "m_true = np.random.normal(0, 1, N)\n",
    "m_reco = np.random.normal(m_true, 1)\n",
    "m_true_alt = np.random.normal(0.5, 1, N)\n",
    "m_reco_alt = np.random.normal(m_true_alt, 1)"
   ]
  },
  {
   "cell_type": "code",
   "execution_count": 4,
   "id": "43c7460c",
   "metadata": {},
   "outputs": [],
   "source": [
    "SIGNAL_VALUE = -999\n",
    "N = len(m_true)\n",
    "signal_array = np.full(N, SIGNAL_VALUE)\n",
    "substructure_variables = ['m']\n",
    "\n",
    "xvals_truth = np.array([np.concatenate([globals()[f\"{var_name}_true_alt\"], globals()[f\"{var_name}_true\"]]) for var_name in substructure_variables]).T\n",
    "xvals_signal = np.array([np.concatenate([globals()[f\"{var_name}_true_alt\"], globals()[\"signal_array\"]]) for var_name in substructure_variables]).T\n",
    "xvals_reco = np.array([np.concatenate([globals()[f\"{var_name}_reco_alt\"], globals()[f\"{var_name}_reco\"]]) for var_name in substructure_variables]).T\n",
    "                    \n",
    "yvals = np.concatenate([np.zeros(N, dtype=np.float32),np.ones(N, dtype=np.float32)])\n",
    "\n",
    "X_train_truth, X_test_truth, X_train_signal, X_test_signal, X_train_reco, X_test_reco, Y_train, Y_test = train_test_split(\n",
    "    xvals_truth, xvals_signal, xvals_reco, yvals)\n"
   ]
  },
  {
   "cell_type": "code",
   "execution_count": 11,
   "id": "05fdd98c",
   "metadata": {},
   "outputs": [],
   "source": [
    "tf.keras.utils.get_custom_objects().clear()\n",
    "@tf.keras.utils.register_keras_serializable(package=\"Custom\", name=\"weighted_binary_crossentropy\")\n",
    "def weighted_binary_crossentropy(target, output, weights):\n",
    "    target = tf.convert_to_tensor(target, dtype=tf.float32)\n",
    "    output = tf.convert_to_tensor(output, dtype=tf.float32)\n",
    "    weights = tf.convert_to_tensor(weights, dtype=tf.float32)\n",
    "    \n",
    "    epsilon_ = tf.keras.backend.epsilon()\n",
    "    output = tf.clip_by_value(output, epsilon_, 1.0 - epsilon_)\n",
    "    \n",
    "    weights_1 = K.sum(target * weights)\n",
    "    weights_0 = K.sum((1 - target) * weights)\n",
    "    \n",
    "    bce_1 = target * K.log(output + epsilon_) * weights / weights_1\n",
    "    bce_0 = (1 - target) * K.log(1 - output + epsilon_) * weights / weights_0\n",
    "    weighted_bce = -K.mean(bce_1 + bce_0)\n",
    "    return weighted_bce\n",
    "    \n",
    "@tf.keras.utils.register_keras_serializable(package=\"Custom\", name=\"weighted_binary_crossentropy_GAN\")\n",
    "def weighted_binary_crossentropy_GAN(target, output, weights):\n",
    "\n",
    "    target = tf.convert_to_tensor(target, dtype=tf.float32)\n",
    "    output = tf.convert_to_tensor(output, dtype=tf.float32)\n",
    "    weights = tf.convert_to_tensor(weights, dtype=tf.float32)\n",
    "\n",
    "    epsilon_ = tf.keras.backend.epsilon()\n",
    "    output = tf.clip_by_value(output, epsilon_, 1.0 - epsilon_)\n",
    "    \n",
    "    weights_sum = K.sum((1 - target) * weights)\n",
    "    bce = K.mean(weights * (1 - target) * K.log(1 - output + epsilon_) / weights_sum)\n",
    "    return bce\n",
    "\n"
   ]
  },
  {
   "cell_type": "code",
   "execution_count": 12,
   "id": "2ff54689",
   "metadata": {},
   "outputs": [],
   "source": [
    "#Create the generator model\n",
    "mymodel_inputtest = Input(shape=(xvals_signal.shape[1],))\n",
    "hidden_layer_1 = Dense(50, activation='relu', use_bias=False, kernel_initializer=RandomNormal(mean=0.0, stddev=0.2))(mymodel_inputtest)\n",
    "batch_norm_1 = BatchNormalization()(hidden_layer_1)\n",
    "hidden_layer_2 = Dense(50, activation='relu', use_bias=False)(batch_norm_1)\n",
    "batch_norm_2 = BatchNormalization()(hidden_layer_2)\n",
    "hidden_layer_3 = Dense(50, activation='relu', use_bias=False)(batch_norm_2)\n",
    "softplus_output = Dense(1, activation='softplus', use_bias=False)(hidden_layer_3)\n",
    "outputs = Lambda(lambda x: x / K.log(2.0))(softplus_output)  # Scale output by log(2)\n",
    "\n",
    "model_generator = Model(inputs=mymodel_inputtest, outputs=outputs)\n",
    "                       \n",
    "#Create the discriminator model, and compile it while model_discrimintor.trainable is still true so that model_discrimintor.train_on_batch will cause the discriminator to train on loss=weighted_binary_crossentropy, while the generator is constant\n",
    "\n",
    "inputs_disc = Input((xvals_reco.shape[1], ))\n",
    "hidden_layer_1_disc = Dense(50, activation='relu')(inputs_disc)\n",
    "hidden_layer_2_disc = Dense(50, activation='relu')(hidden_layer_1_disc)\n",
    "hidden_layer_3_disc = Dense(50, activation='relu')(hidden_layer_2_disc)\n",
    "outputs_disc = Dense(1, activation='sigmoid')(hidden_layer_3_disc)\n",
    "model_discriminator = Model(inputs=inputs_disc, outputs=outputs_disc)\n",
    "model_discriminator.compile(optimizer=Adam(learning_rate=0.0002, beta_1=0.4))\n",
    "    "
   ]
  },
  {
   "cell_type": "code",
   "execution_count": 13,
   "id": "fd256ef3-d9ff-4bfe-9400-aae5fd34943f",
   "metadata": {},
   "outputs": [],
   "source": [
    "optimizer_disc = Adam(learning_rate=0.0002, beta_1=0.4)\n",
    "optimizer_gen = Adam(learning_rate=0.0001, beta_1=0.5)\n",
    "\n",
    "@tf.function\n",
    "def train_step_discriminator(X_detector_batch, Y_batch, W_batch):\n",
    "    model_discriminator.trainable = True\n",
    "    with tf.GradientTape() as tape:\n",
    "        predictions = model_discriminator(X_detector_batch, training=True)\n",
    "        loss = weighted_binary_crossentropy(Y_batch, predictions, W_batch)\n",
    "    grads = tape.gradient(loss, model_discriminator.trainable_variables)\n",
    "    optimizer_disc.apply_gradients(zip(grads, model_discriminator.trainable_variables))\n",
    "    return loss\n",
    "\n",
    "@tf.function\n",
    "def train_step_gan(X_particle_batch, X_detector_batch, Y_batch):\n",
    "    with tf.GradientTape() as tape:\n",
    "        W_batch = model_generator(X_particle_batch, training=True) \n",
    "        W_batch = tf.where(Y_batch == 1, 1.0, tf.squeeze(W_batch))\n",
    "        model_discriminator.trainable = False   \n",
    "        discriminator_output = model_discriminator(X_detector_batch, training=False)  \n",
    "        loss = weighted_binary_crossentropy_GAN(Y_batch, discriminator_output, W_batch)\n",
    "    grads = tape.gradient(loss, model_generator.trainable_variables)\n",
    "    optimizer_gen.apply_gradients(zip(grads, model_generator.trainable_variables))\n",
    "    return loss\n"
   ]
  },
  {
   "cell_type": "code",
   "execution_count": 14,
   "id": "9c78cfbe",
   "metadata": {},
   "outputs": [
    {
     "name": "stdout",
     "output_type": "stream",
     "text": [
      "Epoch 1/5\n",
      "Epoch 1 completed. Discriminator Loss: 0.013866961933672428, Generator Loss: -0.006900312844663858\n",
      "Epoch 2/5\n",
      "Epoch 2 completed. Discriminator Loss: 0.013862956315279007, Generator Loss: -0.00693307863548398\n",
      "Epoch 3/5\n",
      "Epoch 3 completed. Discriminator Loss: 0.013862942345440388, Generator Loss: -0.006931876298040152\n",
      "Epoch 4/5\n",
      "Epoch 4 completed. Discriminator Loss: 0.013862940482795238, Generator Loss: -0.006931649055331945\n",
      "Epoch 5/5\n",
      "Epoch 5 completed. Discriminator Loss: 0.01386293862015009, Generator Loss: -0.006931541953235865\n"
     ]
    }
   ],
   "source": [
    "discriminator_losses = []\n",
    "generator_losses = []\n",
    "\n",
    "n_epochs = 5\n",
    "batch_size = N//100\n",
    "\n",
    "train_dataset = tf.data.Dataset.from_tensor_slices((X_train_reco, X_train_signal, Y_train)).batch(batch_size)\n",
    "\n",
    "for epoch in range(n_epochs):\n",
    "    print(f\"Epoch {epoch+1}/{n_epochs}\")\n",
    "\n",
    "    for X_detector_batch, X_particle_batch, Y_batch in train_dataset:\n",
    "        W_batch = model_generator.predict(X_particle_batch, verbose=0)\n",
    "        W_batch = tf.where(Y_batch == 1, 1.0, tf.squeeze(W_batch))\n",
    "\n",
    "        d_loss = train_step_discriminator(X_detector_batch, Y_batch, W_batch)\n",
    "        g_loss = train_step_gan(X_particle_batch, X_detector_batch, Y_batch)\n",
    "\n",
    "        discriminator_losses.append(d_loss.numpy())\n",
    "        generator_losses.append(g_loss.numpy())\n",
    "\n",
    "    # Log the average losses for the epoch\n",
    "    avg_d_loss = np.mean(discriminator_losses[-len(train_dataset):])\n",
    "    avg_g_loss = np.mean(generator_losses[-len(train_dataset):])\n",
    "    print(f\"Epoch {epoch+1} completed. Discriminator Loss: {avg_d_loss}, Generator Loss: {avg_g_loss}\")\n"
   ]
  },
  {
   "cell_type": "code",
   "execution_count": 15,
   "id": "d9aec206-7ad9-482f-aebc-c668870a203c",
   "metadata": {},
   "outputs": [
    {
     "data": {
      "image/png": "[encoded data removed]",
      "text/plain": [
       "<Figure size 1000x500 with 1 Axes>"
      ]
     },
     "metadata": {},
     "output_type": "display_data"
    }
   ],
   "source": [
    "## Plotting the losses\n",
    "plt.figure(figsize=(10, 5))\n",
    "plt.plot(discriminator_losses, label='Discriminator Loss')\n",
    "plt.plot(generator_losses, label='Generator Loss')\n",
    "plt.title('Training Losses')\n",
    "plt.xlabel('Batch')\n",
    "plt.legend()\n",
    "plt.show()"
   ]
  },
  {
   "cell_type": "code",
   "execution_count": 17,
   "id": "7ae4840b",
   "metadata": {},
   "outputs": [
    {
     "name": "stdout",
     "output_type": "stream",
     "text": [
      "\u001b[1m78/78\u001b[0m \u001b[32m━━━━━━━━━━━━━━━━━━━━\u001b[0m\u001b[37m\u001b[0m \u001b[1m0s\u001b[0m 2ms/step\n"
     ]
    }
   ],
   "source": [
    "#Now apply the generator to x_true_alt, to get the weights at truth level\n",
    "weights = model_generator.predict(X_test_truth[Y_test==0])"
   ]
  },
  {
   "cell_type": "code",
   "execution_count": 18,
   "id": "36351bde",
   "metadata": {},
   "outputs": [
    {
     "data": {
      "text/plain": [
       "array([[0.2960077 ],\n",
       "       [0.31115517],\n",
       "       [0.4350126 ],\n",
       "       ...,\n",
       "       [0.11658875],\n",
       "       [0.2955276 ],\n",
       "       [0.55442894]], dtype=float32)"
      ]
     },
     "execution_count": 18,
     "metadata": {},
     "output_type": "execute_result"
    }
   ],
   "source": [
    "weights"
   ]
  },
  {
   "cell_type": "code",
   "execution_count": 28,
   "id": "170ff6e0",
   "metadata": {},
   "outputs": [
    {
     "data": {
      "image/png": "[encoded data removed]",
      "text/plain": [
       "<Figure size 600x800 with 1 Axes>"
      ]
     },
     "metadata": {},
     "output_type": "display_data"
    }
   ],
   "source": [
    "fig, axs = plt.subplots(figsize=(6, 8))\n",
    "nbins = 30\n",
    "density = False\n",
    "\n",
    "for i, var_name in enumerate(substructure_variables):\n",
    "    # Assuming X_test_truth is structured so that columns correspond to variables in substructure_variables\n",
    "    X = X_test_truth[:, i]  # Get the i-th variable\n",
    "    bins = np.linspace(X.min(), X.max(), nbins)\n",
    "    \n",
    "    axs.hist(X[Y_test == 1], bins=bins, alpha=0.5, label=\"truth\", density=density, zorder=-1)\n",
    "    axs.hist(X[Y_test == 0], bins=bins, alpha=0.5, label=\"gen\", density=density, zorder=0)\n",
    "    axs.hist(X[Y_test == 0], bins=bins, weights=weights, histtype=\"step\", color=\"red\", ls=\":\", lw=2, label=\"weighted gen\", density=density, zorder=1)\n",
    "    \n",
    "    axs.legend(fontsize=12)\n",
    "    axs.set_ylabel(\"Density\")\n",
    "    axs.set_xlabel(var_name)  # Use the variable name as the x-axis label\n",
    "    axs.set_title(f\"Histogram of {var_name}\")  # Optionally set a title for each subplot\n",
    "\n",
    "\n",
    "plt.tight_layout()\n",
    "plt.show()\n"
   ]
  },
  {
   "cell_type": "code",
   "execution_count": null,
   "id": "02e673d9",
   "metadata": {},
   "outputs": [],
   "source": []
  }
 ],
 "metadata": {
  "kernelspec": {
   "display_name": "Python 3.12.2 (TF, CUDA)",
   "language": "python",
   "name": "python3122"
  },
  "language_info": {
   "codemirror_mode": {
    "name": "ipython",
    "version": 3
   },
   "file_extension": ".py",
   "mimetype": "text/x-python",
   "name": "python",
   "nbconvert_exporter": "python",
   "pygments_lexer": "ipython3",
   "version": "3.12.2"
  }
 },
 "nbformat": 4,
 "nbformat_minor": 5
}
