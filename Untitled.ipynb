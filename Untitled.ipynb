{
 "cells": [
  {
   "cell_type": "code",
   "execution_count": 2,
   "id": "b34a2a33",
   "metadata": {},
   "outputs": [],
   "source": [
    "import numpy as np\n",
    "import os\n",
    "import matplotlib.pyplot as plt\n",
    "import energyflow as ef\n",
    "import energyflow.archs\n",
    "from energyflow.archs import PFN\n",
    "from matplotlib import gridspec\n",
    "from sklearn.model_selection import train_test_split\n",
    "from sklearn.preprocessing import StandardScaler\n",
    "from scipy.stats import zscore\n",
    "import tensorflow as tf\n",
    "from tensorflow.keras.layers import Dense, Input, Layer, concatenate\n",
    "from tensorflow.keras.models import Model\n",
    "import tensorflow.keras.backend as K\n",
    "from tensorflow.keras.layers import BatchNormalization\n",
    "\n",
    "plt.rc('font', size=20)\n",
    "plt.rcParams[\"font.family\"] = \"serif\"\n"
   ]
  },
  {
   "cell_type": "code",
   "execution_count": 3,
   "id": "5c69417d",
   "metadata": {},
   "outputs": [
    {
     "name": "stderr",
     "output_type": "stream",
     "text": [
      "<__array_function__ internals>:5: VisibleDeprecationWarning: Creating an ndarray from ragged nested sequences (which is a list-or-tuple of lists-or-tuples-or ndarrays with different lengths or shapes) is deprecated. If you meant to do this, you must specify 'dtype=object' when creating the ndarray.\n"
     ]
    }
   ],
   "source": [
    "#These are the same datasets from the OmniFold paper https://arxiv.org/abs/1911.09107.  More detail at https://energyflow.network/docs/datasets/.\n",
    "#Pythia and Herwig are two generators; one will be treated here as the \"simulation\" and one as \"data\".\n",
    "datasets = {'Pythia26': ef.zjets_delphes.load('Pythia26', num_data=1000000),\n",
    "            'Herwig': ef.zjets_delphes.load('Herwig', num_data=1000000)}"
   ]
  },
  {
   "cell_type": "code",
   "execution_count": 4,
   "id": "61b43146",
   "metadata": {},
   "outputs": [],
   "source": [
    "def is_charged(myin):\n",
    "    if (myin == 0):\n",
    "        return 0\n",
    "    elif (myin == 0.1):\n",
    "        return 1\n",
    "    elif (myin == 0.2):\n",
    "        return -1\n",
    "    elif (myin == 0.3):\n",
    "        return 0\n",
    "    elif (myin == 0.4):\n",
    "        return -1\n",
    "    elif (myin == 0.5):\n",
    "        return 1\n",
    "    elif (myin == 0.6):\n",
    "        return -1\n",
    "    elif (myin == 0.7):\n",
    "        return 1\n",
    "    elif (myin == 0.8):\n",
    "        return 1\n",
    "    elif (myin == 0.9):\n",
    "        return -1\n",
    "    elif (myin == 1.0):\n",
    "        return 1\n",
    "    elif (myin == 1.1):\n",
    "        return -1\n",
    "    elif (myin == 1.2):\n",
    "        return 0\n",
    "    elif (myin == 1.3):\n",
    "        return 0"
   ]
  },
  {
   "cell_type": "code",
   "execution_count": 5,
   "id": "cd81906e",
   "metadata": {},
   "outputs": [],
   "source": [
    "for dataset in datasets:\n",
    "    mycharges = []\n",
    "    mycharges2 = []\n",
    "    for i in range(len(datasets[dataset]['gen_particles'])):\n",
    "        pTs = datasets[dataset]['gen_particles'][i][:,0]\n",
    "        charges = [is_charged(datasets[dataset]['gen_particles'][i][:,3][j]) for j in range(len(datasets[dataset]['gen_particles'][i][:,3]))]\n",
    "        mycharges+=[np.sum(charges*pTs**0.5)/np.sum(pTs**0.5)]\n",
    "        mycharges2+=[np.sum(np.abs(charges)*pTs)/np.sum(pTs)]\n",
    "    datasets[dataset]['gen_charge'] = mycharges\n",
    "    datasets[dataset]['gen_pTcharge'] = mycharges2\n",
    "\n",
    "    mycharges = []\n",
    "    mycharges2 = []\n",
    "    for i in range(len(datasets[dataset]['sim_particles'])):\n",
    "        pTs = datasets[dataset]['sim_particles'][i][:,0]\n",
    "        charges = [is_charged(datasets[dataset]['sim_particles'][i][:,3][j]) for j in range(len(datasets[dataset]['sim_particles'][i][:,3]))]\n",
    "        mycharges+=[np.sum(charges*pTs**0.5)/np.sum(pTs**0.5)]\n",
    "        mycharges2+=[np.sum(np.abs(charges)*pTs)/np.sum(pTs)]\n",
    "    datasets[dataset]['sim_charge'] = mycharges\n",
    "    datasets[dataset]['sim_pTcharge'] = mycharges2"
   ]
  },
  {
   "cell_type": "code",
   "execution_count": 9,
   "id": "b1516719",
   "metadata": {},
   "outputs": [],
   "source": [
    "tau2s_reco = datasets['Pythia26']['sim_tau2s']\n",
    "tau2s_reco_alt = datasets['Herwig']['sim_tau2s']\n",
    "\n",
    "tau1s_reco = datasets['Pythia26']['sim_widths']\n",
    "tau1s_reco_alt = datasets['Herwig']['sim_widths']\n",
    "\n",
    "tau2s_true = datasets['Pythia26']['gen_tau2s']\n",
    "tau2s_true_alt = datasets['Herwig']['gen_tau2s']\n",
    "\n",
    "tau1s_true = datasets['Pythia26']['gen_widths']\n",
    "tau1s_true_alt = datasets['Herwig']['gen_widths']"
   ]
  },
  {
   "cell_type": "code",
   "execution_count": 7,
   "id": "31ab2b15",
   "metadata": {},
   "outputs": [],
   "source": [
    "pT_true = datasets['Pythia26']['gen_jets'][:,0]\n",
    "m_true = datasets['Pythia26']['gen_jets'][:,3]\n",
    "pT_reco = datasets['Pythia26']['sim_jets'][:,0]\n",
    "m_reco = datasets['Pythia26']['sim_jets'][:,3]\n",
    "\n",
    "pT_true_alt = datasets['Herwig']['gen_jets'][:,0]\n",
    "m_true_alt = datasets['Herwig']['gen_jets'][:,3]\n",
    "pT_reco_alt = datasets['Herwig']['sim_jets'][:,0]\n",
    "m_reco_alt = datasets['Herwig']['sim_jets'][:,3]\n",
    "\n",
    "#\n",
    "w_true = datasets['Pythia26']['gen_widths']\n",
    "w_reco = datasets['Pythia26']['sim_widths']\n",
    "w_true_alt = datasets['Herwig']['gen_widths']\n",
    "w_reco_alt = datasets['Herwig']['sim_widths']\n",
    "\n",
    "#\n",
    "q_true = np.array(datasets['Pythia26']['gen_charge'])\n",
    "q_reco = np.array(datasets['Pythia26']['sim_charge'])\n",
    "q_true_alt = np.array(datasets['Herwig']['gen_charge'])\n",
    "q_reco_alt = np.array(datasets['Herwig']['sim_charge'])\n",
    "\n",
    "#\n",
    "r_true = np.array(datasets['Pythia26']['gen_pTcharge'])\n",
    "r_reco = np.array(datasets['Pythia26']['sim_pTcharge'])\n",
    "r_true_alt = np.array(datasets['Herwig']['gen_pTcharge'])\n",
    "r_reco_alt = np.array(datasets['Herwig']['sim_pTcharge'])"
   ]
  },
  {
   "cell_type": "code",
   "execution_count": 11,
   "id": "8701a450",
   "metadata": {},
   "outputs": [],
   "source": [
    "variables_to_save = ['pT_true', 'pT_true_alt', 'pT_reco', 'pT_reco_alt',\n",
    "         'm_true', 'm_true_alt', 'm_reco', 'm_reco_alt',\n",
    "         'q_true', 'q_true_alt', 'q_reco', 'q_reco_alt',\n",
    "         'w_true', 'w_true_alt', 'w_reco', 'w_reco_alt',\n",
    "         'r_true', 'r_true_alt', 'r_reco', 'r_reco_alt',\n",
    "         'tau1s_true', 'tau1s_true_alt', 'tau1s_reco', 'tau1s_reco_alt',\n",
    "         'tau2s_true', 'tau2s_true_alt', 'tau2s_reco', 'tau2s_reco_alt']"
   ]
  },
  {
   "cell_type": "code",
   "execution_count": 13,
   "id": "98baeaed",
   "metadata": {},
   "outputs": [],
   "source": [
    "arrays_dict = {var_name: globals()[var_name] for var_name in variables_to_save}"
   ]
  },
  {
   "cell_type": "code",
   "execution_count": 14,
   "id": "326099d5",
   "metadata": {},
   "outputs": [],
   "source": [
    "np.savez('rawdata.npz', **arrays_dict)"
   ]
  },
  {
   "cell_type": "code",
   "execution_count": 10,
   "id": "9ee10edd",
   "metadata": {},
   "outputs": [],
   "source": [
    "np.savez('rawdata.npz', pT_true, pT_true_alt, pT_reco, pT_reco_alt,\n",
    "         m_true, m_true_alt, m_reco, m_reco_alt,\n",
    "         q_true, q_true_alt, q_reco, q_reco_alt,\n",
    "         w_true, w_true_alt, w_reco, w_reco_alt,\n",
    "         r_true, r_true_alt, r_reco, r_reco_alt,\n",
    "         tau1s_true, tau1s_true_alt, tau1s_reco, tau1s_reco_alt,\n",
    "         tau2s_true, tau2s_true_alt, tau2s_reco, tau2s_reco_alt\n",
    "        )"
   ]
  },
  {
   "cell_type": "code",
   "execution_count": null,
   "id": "5ad879e9",
   "metadata": {},
   "outputs": [],
   "source": []
  }
 ],
 "metadata": {
  "kernelspec": {
   "display_name": "Python 3",
   "language": "python",
   "name": "python3"
  },
  "language_info": {
   "codemirror_mode": {
    "name": "ipython",
    "version": 3
   },
   "file_extension": ".py",
   "mimetype": "text/x-python",
   "name": "python",
   "nbconvert_exporter": "python",
   "pygments_lexer": "ipython3",
   "version": "3.8.13"
  }
 },
 "nbformat": 4,
 "nbformat_minor": 5
}
